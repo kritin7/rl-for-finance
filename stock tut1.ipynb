{
 "cells": [
  {
   "cell_type": "code",
   "execution_count": 3,
   "id": "apparent-flooring",
   "metadata": {},
   "outputs": [],
   "source": [
    "import gym\n",
    "from gym import spaces\n",
    "import numpy as np\n",
    "import pandas as pd\n",
    "import random\n",
    "import json\n"
   ]
  },
  {
   "cell_type": "code",
   "execution_count": 70,
   "id": "polar-animation",
   "metadata": {},
   "outputs": [
    {
     "name": "stdout",
     "output_type": "stream",
     "text": [
      "Discrete(3)\n"
     ]
    }
   ],
   "source": [
    "env = gym.make('MountainCar-v0')\n",
    "env.reset()\n",
    "print(env.action_space)\n",
    "for i in range(1,100):\n",
    "\n",
    "    env.step(env.action_space.sample())\n",
    "    env.render()\n",
    "    "
   ]
  },
  {
   "cell_type": "code",
   "execution_count": 24,
   "id": "rational-payroll",
   "metadata": {},
   "outputs": [],
   "source": [
    "class stock_trading_env(gym.Env):\n",
    "    metadata = {'render.modes': ['human']}\n",
    "    def __init__(self,df):\n",
    "        super(stock_trading_env, self).__init__()\n",
    "        self.df = df\n",
    "        self.reward_range = (0, MAX_ACCOUNT_BALANCE) \n",
    "\n",
    "        self.action_space = spaces.Box(low = np.array([0,0]), high = np.array([3,1]), dtype=np.float16)\n",
    "        self.observation_space = spaces.Box(low = 0, high = 1, shape = (6,6), dtype=np.float16)\n",
    "\n",
    "    def step(self, action):      \n",
    "        self._take_action(action)\n",
    "        self.current_step += 1\n",
    "        if self.current_step > len(self.df.loc[:, 'Open'].values) - 6:\n",
    "            self.current_step = 0\n",
    "        \n",
    "        delay_modifier = (self.current_step / MAX_STEPS)\n",
    "  \n",
    "        reward = self.balance * delay_modifier\n",
    "        done = self.net_worth <= 0\n",
    "        obs = self._next_observation()\n",
    "        return obs, reward, done, {}\n",
    "    def _take_action(self, action):\n",
    "        current_price = random.uniform(\n",
    "            self.df.loc[self.current_step, \"Open\"],\n",
    "            self.df.loc[self.current_step, \"Close\"])\n",
    "        action_type = action[0]\n",
    "        amount = action[1]\n",
    "        if action_type < 1:\n",
    "            # Buy \n",
    "            total_possible = int(self.balance / current_price)\n",
    "            shares_bought = int(total_possible * amount)\n",
    "            prev_cost = self.cost_basis * self.shares_held\n",
    "            additional_cost = shares_bought * current_price\n",
    "            self.balance -= additional_cost\n",
    "            self.cost_basis = (prev_cost + additional_cost) / (self.shares_held + shares_bought)\n",
    "            self.shares_held += shares_bought\n",
    "        elif action_type < 2:\n",
    "            # Sell \n",
    "            shares_sold = int(self.shares_held * amount)  \n",
    "            self.balance += shares_sold * current_price\n",
    "            self.shares_held -= shares_sold\n",
    "            self.total_shares_sold += shares_sold\n",
    "            self.total_sales_value += shares_sold * current_price\n",
    "            \n",
    "        self.netWorth = self.balance + self.shares_held * current_price\n",
    "        if self.net_worth > self.max_net_worth:\n",
    "            self.max_net_worth = net_worth\n",
    "        if self.shares_held == 0:\n",
    "            self.cost_basis = 0\n",
    "    \n",
    "    \n",
    "    def render(self, mode='human', close=False):\n",
    "\n",
    "        profit = self.net_worth - INITIAL_ACCOUNT_BALANCE\n",
    "        print(f'Step: {self.current_step}')\n",
    "        print(f'Balance: {self.balance}')\n",
    "        print(f'Shares held: {self.shares_held} (Total sold: {self.total_shares_sold})')\n",
    "        print(f'Avg cost for held shares: {self.cost_basis} (Total sales value: {self.total_sales_value})')\n",
    "        print(f'Net worth: {self.net_worth} (Max net worth: {self.max_net_worth})')\n",
    "        print(f'Profit: {profit}')\n",
    "        \n",
    "    def reset(self):\n",
    "        self.balance = INITIAL_ACCOUNT_BALANCE\n",
    "        self.net_worth = INITIAL_ACCOUNT_BALANCE\n",
    "        self.max_net_worth = INITIAL_ACCOUNT_BALANCE\n",
    "        self.shares_held = 0\n",
    "        self.cost_basis = 0\n",
    "        self.total_shares_sold = 0\n",
    "        self.total_sales_value = 0\n",
    "\n",
    "          \n",
    "        self.current_step = random.randint(0, len(self.df.loc[:, 'Open'].values) - 6)\n",
    "        return self._next_observation()\n",
    "    \n",
    "          \n",
    "    def _next_observation(self):\n",
    "        \n",
    "        \n",
    "      # Get the data points for the last 5 days and scale to between 0-1\n",
    "        frame = np.array([\n",
    "            self.df.loc[self.current_step: self.current_step +\n",
    "                        5, 'Open'].values / MAX_SHARE_PRICE,\n",
    "            self.df.loc[self.current_step: self.current_step +\n",
    "                        5, 'High'].values / MAX_SHARE_PRICE,\n",
    "            self.df.loc[self.current_step: self.current_step +\n",
    "                        5, 'Low'].values / MAX_SHARE_PRICE,\n",
    "            self.df.loc[self.current_step: self.current_step +\n",
    "                        5, 'Close'].values / MAX_SHARE_PRICE,\n",
    "            self.df.loc[self.current_step: self.current_step +\n",
    "                        5, 'Volume'].values / MAX_NUM_SHARES,\n",
    "           ])\n",
    "          # Append additional data and scale each value to between 0-1\n",
    "        obs = np.append(frame, [[\n",
    "            self.balance / MAX_ACCOUNT_BALANCE,\n",
    "            self.max_net_worth / MAX_ACCOUNT_BALANCE,\n",
    "            self.shares_held / MAX_NUM_SHARES,\n",
    "            self.cost_basis / MAX_SHARE_PRICE,\n",
    "            self.total_shares_sold / MAX_NUM_SHARES,\n",
    "            self.total_sales_value / (MAX_NUM_SHARES * MAX_SHARE_PRICE),\n",
    "          ]], axis=0)\n",
    "        return obs        \n",
    "\n",
    "      "
   ]
  },
  {
   "cell_type": "code",
   "execution_count": 25,
   "id": "prospective-voltage",
   "metadata": {},
   "outputs": [],
   "source": [
    "#constants\n",
    "MAX_ACCOUNT_BALANCE = 2147483647\n",
    "MAX_NUM_SHARES = 2147483647\n",
    "MAX_SHARE_PRICE = 5000\n",
    "MAX_OPEN_POSITIONS = 5\n",
    "MAX_STEPS = 20000\n",
    "\n",
    "INITIAL_ACCOUNT_BALANCE = 10000\n"
   ]
  },
  {
   "cell_type": "code",
   "execution_count": 26,
   "id": "cooperative-channel",
   "metadata": {},
   "outputs": [
    {
     "name": "stdout",
     "output_type": "stream",
     "text": [
      "Box(0.0, 3.0, (2,), float16)\n",
      "[2.531   0.03775]\n",
      "Box(0.0, 1.0, (6, 6), float16)\n"
     ]
    }
   ],
   "source": [
    "env = stock_trading_env(df)\n",
    "print(env.action_space)\n",
    "print(env.action_space.sample())\n",
    "print(env.observation_space)"
   ]
  },
  {
   "cell_type": "code",
   "execution_count": 29,
   "id": "vertical-grammar",
   "metadata": {},
   "outputs": [
    {
     "name": "stdout",
     "output_type": "stream",
     "text": [
      "Step: 3397\n",
      "Balance: 10000.0\n",
      "Shares held: 0 (Total sold: 0)\n",
      "Avg cost for held shares: 0 (Total sales value: 0.0)\n",
      "Net worth: 10000 (Max net worth: 10000)\n",
      "Profit: 0\n",
      "Step: 3398\n",
      "Balance: 10000.0\n",
      "Shares held: 0 (Total sold: 0)\n",
      "Avg cost for held shares: 0 (Total sales value: 0.0)\n",
      "Net worth: 10000 (Max net worth: 10000)\n",
      "Profit: 0\n",
      "Step: 3399\n",
      "Balance: 10000.0\n",
      "Shares held: 0 (Total sold: 0)\n",
      "Avg cost for held shares: 0 (Total sales value: 0.0)\n",
      "Net worth: 10000 (Max net worth: 10000)\n",
      "Profit: 0\n",
      "Step: 3400\n",
      "Balance: 10000.0\n",
      "Shares held: 0 (Total sold: 0)\n",
      "Avg cost for held shares: 0 (Total sales value: 0.0)\n",
      "Net worth: 10000 (Max net worth: 10000)\n",
      "Profit: 0\n",
      "Step: 3401\n",
      "Balance: 10000.0\n",
      "Shares held: 0 (Total sold: 0)\n",
      "Avg cost for held shares: 0 (Total sales value: 0.0)\n",
      "Net worth: 10000 (Max net worth: 10000)\n",
      "Profit: 0\n",
      "Step: 3402\n",
      "Balance: 10000.0\n",
      "Shares held: 0 (Total sold: 0)\n",
      "Avg cost for held shares: 0 (Total sales value: 0.0)\n",
      "Net worth: 10000 (Max net worth: 10000)\n",
      "Profit: 0\n",
      "Step: 3403\n",
      "Balance: 10000.0\n",
      "Shares held: 0 (Total sold: 0)\n",
      "Avg cost for held shares: 0 (Total sales value: 0.0)\n",
      "Net worth: 10000 (Max net worth: 10000)\n",
      "Profit: 0\n",
      "Step: 3404\n",
      "Balance: 10000.0\n",
      "Shares held: 0 (Total sold: 0)\n",
      "Avg cost for held shares: 0 (Total sales value: 0.0)\n",
      "Net worth: 10000 (Max net worth: 10000)\n",
      "Profit: 0\n",
      "Step: 3405\n",
      "Balance: 9283.685850167962\n",
      "Shares held: 2 (Total sold: 0)\n",
      "Avg cost for held shares: 358.15707491601887 (Total sales value: 0.0)\n",
      "Net worth: 10000 (Max net worth: 10000)\n",
      "Profit: 0\n"
     ]
    }
   ],
   "source": [
    "env.reset()\n",
    "\n",
    "for i in range (1,10):\n",
    "    env.step(env.action_space.sample())\n",
    "    env.render()\n",
    "    \n",
    "    "
   ]
  },
  {
   "cell_type": "code",
   "execution_count": 30,
   "id": "national-drama",
   "metadata": {},
   "outputs": [],
   "source": [
    "df = pd.read_csv('AAPL_stock.csv')\n",
    "\n",
    "df = df.sort_values('Date')\n"
   ]
  },
  {
   "cell_type": "code",
   "execution_count": 34,
   "id": "quiet-arbor",
   "metadata": {},
   "outputs": [
    {
     "name": "stdout",
     "output_type": "stream",
     "text": [
      "[[1.36300e+01 1.65000e+01 1.59400e+01 1.88100e+01 1.74400e+01 1.81200e+01]\n",
      " [1.62500e+01 1.65600e+01 2.00000e+01 1.90000e+01 1.86200e+01 1.93700e+01]\n",
      " [1.35000e+01 1.51900e+01 1.47500e+01 1.73100e+01 1.69400e+01 1.75000e+01]\n",
      " [1.62500e+01 1.58800e+01 1.89400e+01 1.75000e+01 1.81900e+01 1.81900e+01]\n",
      " [6.41170e+06 5.82030e+06 1.61828e+07 9.30020e+06 6.91090e+06 7.91560e+06]]\n",
      "[13.63 16.5  15.94 18.81]\n"
     ]
    }
   ],
   "source": [
    "current_step = 0\n",
    "MAX_SHARE_PRICE = 1\n",
    "MAX_NUM_SHARES = 1\n",
    "frame = np.array([\n",
    "    df.loc[current_step: current_step +\n",
    "                5, 'Open'].values / MAX_SHARE_PRICE,\n",
    "    df.loc[current_step: current_step +\n",
    "                5, 'High'].values / MAX_SHARE_PRICE,\n",
    "    df.loc[current_step: current_step +\n",
    "                5, 'Low'].values / MAX_SHARE_PRICE,\n",
    "    df.loc[current_step: current_step +\n",
    "                5, 'Close'].values / MAX_SHARE_PRICE,\n",
    "    df.loc[current_step: current_step +\n",
    "                5, 'Volume'].values / MAX_NUM_SHARES,\n",
    "   ])\n",
    "print(frame)\n",
    "print(df.loc[current_step: current_step +\n",
    "                3, 'Open'].values)"
   ]
  },
  {
   "cell_type": "code",
   "execution_count": null,
   "id": "upper-official",
   "metadata": {},
   "outputs": [],
   "source": []
  }
 ],
 "metadata": {
  "kernelspec": {
   "display_name": "Python 3",
   "language": "python",
   "name": "python3"
  },
  "language_info": {
   "codemirror_mode": {
    "name": "ipython",
    "version": 3
   },
   "file_extension": ".py",
   "mimetype": "text/x-python",
   "name": "python",
   "nbconvert_exporter": "python",
   "pygments_lexer": "ipython3",
   "version": "3.8.2"
  }
 },
 "nbformat": 4,
 "nbformat_minor": 5
}
